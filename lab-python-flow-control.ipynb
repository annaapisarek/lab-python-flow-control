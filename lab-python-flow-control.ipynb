{
 "cells": [
  {
   "cell_type": "markdown",
   "id": "d3bfc191-8885-42ee-b0a0-bbab867c6f9f",
   "metadata": {
    "tags": []
   },
   "source": [
    "# Lab | Flow Control"
   ]
  },
  {
   "cell_type": "markdown",
   "id": "3851fcd1-cf98-4653-9c89-e003b7ec9400",
   "metadata": {},
   "source": [
    "## Exercise: Managing Customer Orders Optimized\n",
    "\n",
    "In the last lab, you were starting an online store that sells various products. To ensure smooth operations, you developed a program that manages customer orders and inventory.\n",
    "\n",
    "You did so without using flow control. Let's go a step further and improve this code.\n",
    "\n",
    "Follow the steps below to complete the exercise:\n",
    "\n",
    "1. Look at your code from the lab data structures, and improve repeated code with loops.\n",
    "\n",
    "2. Instead of asking the user to input the name of three products that a customer wants to order, do the following:\n",
    "    \n",
    "    a. Prompt the user to enter the name of a product that a customer wants to order.\n",
    "    \n",
    "    b. Add the product name to the \"customer_orders\" set.\n",
    "    \n",
    "    c. Ask the user if they want to add another product (yes/no).\n",
    "    \n",
    "    d. Continue the loop until the user does not want to add another product.\n",
    "\n",
    "3. Instead of updating the inventory by subtracting 1 from the quantity of each product, only do it for  the products that were ordered (those in \"customer_orders\")."
   ]
  },
  {
   "cell_type": "code",
   "execution_count": 3,
   "id": "9a8a287c-30e8-4703-831c-11f06f72c581",
   "metadata": {},
   "outputs": [
    {
     "name": "stdin",
     "output_type": "stream",
     "text": [
      "How many t-shirts do we have? 6\n",
      "How many mugs do we have? 6\n",
      "How many hats do we have? 6\n",
      "How many books do we have? 6\n",
      "How many keychains do we have? 6\n"
     ]
    },
    {
     "name": "stdout",
     "output_type": "stream",
     "text": [
      "{'t-shirt': 6, 'mug': 6, 'hat': 6, 'book': 6, 'keychain': 6}\n"
     ]
    },
    {
     "name": "stdin",
     "output_type": "stream",
     "text": [
      "Which product do you want? Type in t-shirt, mug, hat, book or keychain. book\n",
      "Do you want to add another item?Yes/No Yes\n",
      "Which product do you want? Type in t-shirt, mug, hat, book or keychain. mug\n",
      "Do you want to add another item?Yes/No Yes\n",
      "Which product do you want? Type in t-shirt, mug, hat, book or keychain. hat\n",
      "Do you want to add another item?Yes/No Yes\n",
      "Which product do you want? Type in t-shirt, mug, hat, book or keychain. keychain\n",
      "Do you want to add another item?Yes/No Yes\n"
     ]
    },
    {
     "name": "stdout",
     "output_type": "stream",
     "text": [
      "Customer orders\n",
      "{'mug', 'keychain', 'book', 'hat'}\n",
      "Order Statistics:\n",
      "Total Products Ordered: 4\n",
      "Percentage of Products Ordered:13.333333333333334%\n",
      "t-shirt: 6\n",
      "mug: 5\n",
      "hat: 5\n",
      "book: 5\n",
      "keychain: 5\n"
     ]
    }
   ],
   "source": [
    "#Define a list called products that contains the following items: \"t-shirt\", \"mug\", \"hat\", \"book\", \"keychain\".\n",
    "\n",
    "products = [\"t-shirt\", \"mug\", \"hat\", \"book\", \"keychain\"]\n",
    "\n",
    "#Create an empty dictionary called inventory.\n",
    "inventory = {}\n",
    "\n",
    "#Ask the user to input the quantity of each product available in the inventory. Use the product names from the products list as keys in the inventory dictionary and assign the respective quantities as values.\n",
    "for i in range(0,5):\n",
    "    quantity = int(input(f\"How many {products[i]}s do we have?\"))\n",
    "    inventory[products[i]] = quantity\n",
    "\n",
    "print(inventory)\n",
    "\n",
    "#Create an empty set called customer_orders.\n",
    "\n",
    "customer_orders = set()\n",
    "\n",
    "\n",
    "\n",
    "while len(customer_orders) < 3:\n",
    "    # a. Prompt the user to enter the name of a product that a customer wants to order.\n",
    "    product = input(\"Which product do you want? Type in t-shirt, mug, hat, book or keychain.\")\n",
    "    if product in products:\n",
    "        # b. Add the product name to the \"customer_orders\" set.\n",
    "        customer_orders.add(product)\n",
    "    else:\n",
    "        print(\"It's not on the list!\")\n",
    "        # c. Ask the user if they want to add another product (yes/no).\n",
    "    decision = input(\"Do you want to add another item?Yes/No\")\n",
    "      # d. Continue the loop until the user does not want to add another product.\n",
    "    if decision == \"No\":\n",
    "        break\n",
    "\n",
    "    \n",
    "        \n",
    "\n",
    "#Print the products in the customer_orders set.\n",
    "print(\"Customer orders\")\n",
    "print(customer_orders)\n",
    "\n",
    "#Calculate the following order statistics:\n",
    "\n",
    "#Total Products Ordered: The total number of products in the customer_orders set.\n",
    "total_products_ordered = len(customer_orders)\n",
    "#Percentage of Products Ordered: The percentage of products ordered compared to the total available products.\n",
    "percentage_of_products_ordered = (len(customer_orders) / sum(inventory.values()) *100)\n",
    "#Store these statistics in a tuple called order_status.\n",
    "order_status = (percentage_of_products_ordered)\n",
    "#Print the order statistics using the following format:\n",
    "print(\"Order Statistics:\")\n",
    "print(f\"Total Products Ordered: {total_products_ordered}\")\n",
    "print(f\"Percentage of Products Ordered:{percentage_of_products_ordered}%\")\n",
    "#Update the inventory by subtracting 1 from the quantity of each product. Modify the inventory dictionary accordingly.\n",
    "#3. Instead of updating the inventory by subtracting 1 from the quantity of each product, only do it for  the products that were ordered (those in \"customer_orders\").\n",
    "for products in customer_orders:\n",
    "    inventory[products] -= 1 \n",
    "      \n",
    "#Print the updated inventory, displaying the quantity of each product on separate lines.\n",
    "for product, quantity in inventory.items():\n",
    "    print(f'{product}: {quantity}')"
   ]
  }
 ],
 "metadata": {
  "kernelspec": {
   "display_name": "Python 3 (ipykernel)",
   "language": "python",
   "name": "python3"
  },
  "language_info": {
   "codemirror_mode": {
    "name": "ipython",
    "version": 3
   },
   "file_extension": ".py",
   "mimetype": "text/x-python",
   "name": "python",
   "nbconvert_exporter": "python",
   "pygments_lexer": "ipython3",
   "version": "3.11.7"
  }
 },
 "nbformat": 4,
 "nbformat_minor": 5
}
